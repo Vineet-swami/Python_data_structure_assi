{
  "nbformat": 4,
  "nbformat_minor": 0,
  "metadata": {
    "colab": {
      "provenance": []
    },
    "kernelspec": {
      "name": "python3",
      "display_name": "Python 3"
    },
    "language_info": {
      "name": "python"
    }
  },
  "cells": [
    {
      "cell_type": "markdown",
      "source": [
        "Data Types and Structures Questions and Asnwers\n",
        "\n",
        "1. What are data structures, and why are they important?\n",
        "---Data structures are specialized ways of organizing, managing, and storing data in a computer so that it can be accessed and modified efficiently. Think of them as containers or frameworks that define how data is arranged in memory and how operations like retrieval, insertion, and deletion are performed.\n",
        "\n",
        "2.  Explain the difference between mutable and immutable data types with examples.\n",
        "--- Mutable data types: Can be changed after creation.\n",
        "    Example: list, dict, set, bytearray\n",
        "\n"
      ],
      "metadata": {
        "id": "fkY0whNcqrPN"
      }
    },
    {
      "cell_type": "code",
      "execution_count": null,
      "metadata": {
        "id": "P4lgJxSgpN0n"
      },
      "outputs": [],
      "source": [
        "my_list = [1, 2, 3]\n",
        "my_list.append(4)\n",
        "print(my_list) # Output: [1, 2, 3, 4]"
      ]
    },
    {
      "cell_type": "markdown",
      "source": [
        "--- Immuatable data types: Can not be changed after creation. Any operation that modifies the data creates a new object.\n",
        "    Example: int, float, string, tuple, bool, forzenset.\n",
        "    "
      ],
      "metadata": {
        "id": "n_0PxAp3sWUD"
      }
    },
    {
      "cell_type": "code",
      "source": [
        "my_string = \"hello\"\n",
        "new_string = my_string.replace(\"h\", \"y\")\n",
        "print(my_string)     # Output: \"hello\"\n",
        "print(new_string)    # Output: \"yello\""
      ],
      "metadata": {
        "colab": {
          "base_uri": "https://localhost:8080/"
        },
        "id": "-VhH1SP7s-97",
        "outputId": "2848093b-c747-4fa4-b008-aee07674a33c"
      },
      "execution_count": 1,
      "outputs": [
        {
          "output_type": "stream",
          "name": "stdout",
          "text": [
            "hello\n",
            "yello\n"
          ]
        }
      ]
    },
    {
      "cell_type": "markdown",
      "source": [
        "3. What are the main differences between lists and tuples in Python?\n",
        "--- In Python, lists and tuples are both used to store collections of items, but they have key differences in mutability, performance, and use cases.\n",
        "    List: Mutable, many methods, slower than tuples, for collection that may change, uses more memory, list are unhashable.\n",
        "    tuple: Immutable, few methods(mostly for reading only), faster, fixed constant data, memory efficient, it is hashable."
      ],
      "metadata": {
        "id": "-OEbSLvjtDJn"
      }
    },
    {
      "cell_type": "code",
      "source": [
        "my_list = [1, 2, 3]\n",
        "my_list.append(4)  # List is mutable\n",
        "print(my_list) # Output: [1, 2, 3, 4]\n",
        "\n",
        "my_tuple = (1, 2, 3)\n",
        "# my_tuple.append(4)  # ❌ Will raise AttributeError"
      ],
      "metadata": {
        "id": "QSngbyQqvMhE"
      },
      "execution_count": null,
      "outputs": []
    },
    {
      "cell_type": "markdown",
      "source": [
        "4. Describe how dictionaries store data.\n",
        "--- In Python, a dictionary is an unordered, mutable collection of key-value pairs. Under the hood, dictionaries use a hash table to store and retrieve data efficiently."
      ],
      "metadata": {
        "id": "8hWhcDrqvUIB"
      }
    },
    {
      "cell_type": "code",
      "source": [
        "person = {'name': 'Alice', 'age': 30}\n",
        "print(person['name'])  # Output: Alice"
      ],
      "metadata": {
        "id": "BAwobw5JwH1I"
      },
      "execution_count": null,
      "outputs": []
    },
    {
      "cell_type": "markdown",
      "source": [
        "5. Why might you use a set instead of a list in Python?\n",
        "--- Set can be use instead of a list in Python for several key reasons, especially when uniqueness and performance matter(fast membership testing,don’t care about order, set operations).\n",
        "\n",
        "6. What is a string in Python, and how is it different from a list\n",
        "--- A string in Python is a sequence of characters used to represent text. It's one of Python’s built-in data types."
      ],
      "metadata": {
        "id": "HZizKEP0wMGU"
      }
    },
    {
      "cell_type": "code",
      "source": [
        "my_string = \"Hello, world!\""
      ],
      "metadata": {
        "id": "kzwsqmPoxciy"
      },
      "execution_count": null,
      "outputs": []
    },
    {
      "cell_type": "markdown",
      "source": [
        "    Difference between string and list:\n",
        "    String: Characters, immuatable, \"Hello\", always str, many text-processing methods.\n",
        "    List: Any type of element, mutable, [\"H\", \"e\", \"l\", \"l\", \"o\"], can be any type, many list specific methods."
      ],
      "metadata": {
        "id": "rp6ejYZRyrNh"
      }
    },
    {
      "cell_type": "markdown",
      "source": [
        "7. How do tuples ensure data integrity in Python?\n",
        "---Tuples help ensure data integrity primarily through their immutability.\n",
        "    1. Prevents Accidental Changes\n",
        "    2. Safe for Read-Only Data\n",
        "    3. Can Be Used as Dictionary Keys\n",
        "\n",
        "8. What is a hash table, and how does it relate to dictionaries in Python?\n",
        "---A hash table is a data structure that stores key-value pairs and allows fast access to values using their keys.\n",
        "\n",
        "    It works by:\n",
        "\n",
        "    1. Applying a hash function to the key to get a hash value\n",
        "\n",
        "    2. Using that value to determine an index in an internal array\n",
        "\n",
        "    3. Storing the key-value pair at that index\n",
        "9. Can lists contain different data types in Python?\n",
        "---Yes, lists can contain different data types. It is heterogeneous, meaning it can hold multiple element in the same list.\n",
        "\n"
      ],
      "metadata": {
        "id": "xcw-YhI1z4Xz"
      }
    },
    {
      "cell_type": "code",
      "source": [
        "my_list = [1, \"hello\", 3.14, True, None, [2, 3], {\"key\": \"value\"}]\n",
        "print(my_list)"
      ],
      "metadata": {
        "colab": {
          "base_uri": "https://localhost:8080/"
        },
        "id": "cnvgFI0WzOOM",
        "outputId": "30131ce9-e326-460d-997e-3f6eb38e2c04"
      },
      "execution_count": 1,
      "outputs": [
        {
          "output_type": "stream",
          "name": "stdout",
          "text": [
            "[1, 'hello', 3.14, True, None, [2, 3], {'key': 'value'}]\n"
          ]
        }
      ]
    },
    {
      "cell_type": "markdown",
      "source": [
        "10. Explain why strings are immutable in Python?\n",
        "---Strings are immutable in Python because it:\n",
        "\n",
        "    1. Improves performance and memory efficiency\n",
        "\n",
        "    2. Allows them to be used as dict keys\n",
        "\n",
        "    3. Prevents unexpected side effects\n",
        "\n",
        "    4. Encourages safe and reliable programming\n",
        "\n",
        "11. What advantages do dictionaries offer over lists for certain tasks?\n",
        "---Dictionaries and lists serve different purposes, but dictionaries are often better when you need to associate keys with values and want fast access to data by key.\n",
        "  1. Key based access fast access using meaningful keys\n",
        "  2. Lookup time complexity is average(O1).\n",
        "  3. Improves readability.\n",
        "  4. Dynaminc mapping.\n",
        "\n",
        "12. Describe a scenario where using a tuple would be preferable over a list.\n",
        "---Use a tuple instead of a list when:\n",
        "\n",
        "    1. You want a fixed, unchangeable group of items\n",
        "\n",
        "    2. The data should be protected from modification\n",
        "\n",
        "    3. You need the values to be hashable\n",
        "\n",
        "    4. You're working with structured, semantic groupings (like coordinates, RGB colors, or database records)\n",
        "\n",
        "13. How do sets handle duplicate values in Python?\n",
        "---Sets automatically remove duplicate values. When you add items to a set, only unique elements are kept.\n",
        "\n",
        "14.  How does the “in” keyword work differently for lists and dictionaries?\n",
        "---In a List:\n",
        "    Checks whether a value is present in the list.\n",
        "    "
      ],
      "metadata": {
        "id": "J9FRgD3ZkUVO"
      }
    },
    {
      "cell_type": "code",
      "source": [
        "fruits = [\"apple\", \"banana\", \"cherry\"]\n",
        "print(\"banana\" in fruits)   # ✅ True\n",
        "print(\"grape\" in fruits)    # ❌ False\n"
      ],
      "metadata": {
        "colab": {
          "base_uri": "https://localhost:8080/"
        },
        "id": "bDtKyyGJ8uE9",
        "outputId": "bcadb64f-bacf-40f4-db92-deebfca322a0"
      },
      "execution_count": 2,
      "outputs": [
        {
          "output_type": "stream",
          "name": "stdout",
          "text": [
            "True\n",
            "False\n"
          ]
        }
      ]
    },
    {
      "cell_type": "markdown",
      "source": [
        "In a Dictionary:\n",
        "Checks whether a key is present in the dictionary — not the value.\n"
      ],
      "metadata": {
        "id": "s3eQCpOjkqKk"
      }
    },
    {
      "cell_type": "code",
      "source": [
        "person = {\"name\": \"Alice\", \"age\": 30}\n",
        "print(\"name\" in person)     # ✅ True (checks key)\n",
        "print(\"Alice\" in person)    # ❌ False (it's a value, not a key)\n"
      ],
      "metadata": {
        "colab": {
          "base_uri": "https://localhost:8080/"
        },
        "id": "lzUvdCcH84_c",
        "outputId": "716e25f5-f004-489a-cd67-b464094e17b7"
      },
      "execution_count": 3,
      "outputs": [
        {
          "output_type": "stream",
          "name": "stdout",
          "text": [
            "True\n",
            "False\n"
          ]
        }
      ]
    },
    {
      "cell_type": "markdown",
      "source": [
        "15. Can you modify the elements of a tuple? Explain why or why not?\n",
        "---No, you cannot modify the elements of a tuple directly — tuples are immutable.\n",
        "\n",
        "\n",
        "16. What is a nested dictionary, and give an example of its use case?\n",
        "---A nested dictionary is a dictionary inside another dictionary."
      ],
      "metadata": {
        "id": "DPwGqSVg9Af7"
      }
    },
    {
      "cell_type": "code",
      "source": [
        "students = {\n",
        "    \"Vineet\": {\n",
        "        \"age\": 20,\n",
        "        \"grades\": {\"math\": 90, \"english\": 85}\n",
        "    },\n",
        "    \"Vardhan\": {\n",
        "        \"age\": 22,\n",
        "        \"grades\": {\"math\": 78, \"english\": 88}\n",
        "    }\n",
        "}\n",
        "print(students[\"Vineet\"][\"grades\"][\"english\"])"
      ],
      "metadata": {
        "colab": {
          "base_uri": "https://localhost:8080/"
        },
        "id": "r8mOv2rw-MUu",
        "outputId": "6919becd-a578-40db-da66-95e30ce6fad7"
      },
      "execution_count": 4,
      "outputs": [
        {
          "output_type": "stream",
          "name": "stdout",
          "text": [
            "85\n"
          ]
        }
      ]
    },
    {
      "cell_type": "markdown",
      "source": [
        "17. Describe the time complexity of accessing elements in a dictionary.\n",
        "---In Python, dictionaries are implemented using hash tables, which provide very fast access to elements by key.\n",
        "    Average Case Time Complexity: O(1)\n",
        "    Worst Case Time Complexity: O(n)\n",
        "\n",
        "18.  In what situations are lists preferred over dictionaries?\n",
        "---lists are the better choice in scenarios where ordered, sequential data is needed without the complexity of keys.\n",
        "    1. Order Matters\n",
        "    2. You Only Need Values (No Keys)\n",
        "    3. Iterating in Order\n",
        "    4. Maintaining Duplicates\n",
        "    5. Index-based Access or Slicing\n",
        "    6. Ordered Stacks or Queues\n",
        "\n",
        "19. Why are dictionaries considered unordered, and how does that affect data retrieval?\n",
        "---Why They Were Originally Unordered:\n",
        "    Dictionaries are implemented as hash tables.\n",
        "\n",
        "    Keys are placed based on hash values, not insertion sequence.\n",
        "\n",
        "    This gave fast lookups (O(1)) but ignored order.\n",
        "\n",
        "20. Explain the difference between a list and a dictionary in terms of data retrieval.\n",
        "---A list retrieves items by index (position) — numeric and sequential.\n",
        "A dictionary retrieves items by key — often a string or number."
      ],
      "metadata": {
        "id": "e65yHSmK83P5"
      }
    },
    {
      "cell_type": "markdown",
      "source": [
        "Practical Questions and Answers\n",
        "1.  Write a code to create a string with your name and print it."
      ],
      "metadata": {
        "id": "-TqFWZiP_Tli"
      }
    },
    {
      "cell_type": "code",
      "source": [
        "str = input(\"Enter your name \") #vineet\n",
        "my_name = \"Vineet\"\n",
        "print(my_name)\n",
        "print(str)"
      ],
      "metadata": {
        "colab": {
          "base_uri": "https://localhost:8080/"
        },
        "id": "zpPM1AAx9Ap4",
        "outputId": "42285098-da79-45a2-8696-1ba51f62582b"
      },
      "execution_count": 2,
      "outputs": [
        {
          "output_type": "stream",
          "name": "stdout",
          "text": [
            "Enter your name vineet\n",
            "vineet\n"
          ]
        }
      ]
    },
    {
      "cell_type": "markdown",
      "source": [
        "2. Write a code to find the length of the string \"Hello World\"."
      ],
      "metadata": {
        "id": "KvGa35jaBdRp"
      }
    },
    {
      "cell_type": "code",
      "source": [
        "str = \"Hello World\"\n",
        "print(str)"
      ],
      "metadata": {
        "colab": {
          "base_uri": "https://localhost:8080/"
        },
        "id": "-LF-tBwtA7Vn",
        "outputId": "04abe415-bbaa-48b0-e915-46a0a3de5b2d"
      },
      "execution_count": 3,
      "outputs": [
        {
          "output_type": "stream",
          "name": "stdout",
          "text": [
            "Hello World\n"
          ]
        }
      ]
    },
    {
      "cell_type": "markdown",
      "source": [
        "3. Write a code to slice the first 3 characters from the string \"Python Programming\"."
      ],
      "metadata": {
        "id": "moE8ro4FBQNo"
      }
    },
    {
      "cell_type": "code",
      "source": [
        "str = \"Python Programming\"\n",
        "text = str[:3]\n",
        "print(text)"
      ],
      "metadata": {
        "colab": {
          "base_uri": "https://localhost:8080/"
        },
        "id": "saFLZ9zGBWWP",
        "outputId": "e46215a9-48ad-4c7f-9e5d-eb56844311b1"
      },
      "execution_count": 4,
      "outputs": [
        {
          "output_type": "stream",
          "name": "stdout",
          "text": [
            "Pyt\n"
          ]
        }
      ]
    },
    {
      "cell_type": "markdown",
      "source": [
        "4. Write a code to convert the string \"hello\" to uppercase."
      ],
      "metadata": {
        "id": "XnGNvDDsBuVf"
      }
    },
    {
      "cell_type": "code",
      "source": [
        "text = \"hello\"\n",
        "up_text = text.upper()\n",
        "print(up_text)"
      ],
      "metadata": {
        "colab": {
          "base_uri": "https://localhost:8080/"
        },
        "id": "_POjthRZBxeM",
        "outputId": "dfe3ff50-3375-489a-fe2e-a451fffb21c0"
      },
      "execution_count": 6,
      "outputs": [
        {
          "output_type": "stream",
          "name": "stdout",
          "text": [
            "HELLO\n"
          ]
        }
      ]
    },
    {
      "cell_type": "markdown",
      "source": [
        "5. Write a code to replace the word \"apple\" with \"orange\" in the string \"I like apple\"."
      ],
      "metadata": {
        "id": "bzlJkvziCEtv"
      }
    },
    {
      "cell_type": "code",
      "source": [
        "text = \"I like apple\"\n",
        "updated_text = text.replace(\"apple\", \"orange\")\n",
        "print(text)"
      ],
      "metadata": {
        "colab": {
          "base_uri": "https://localhost:8080/"
        },
        "id": "zEoG2E5bCV7U",
        "outputId": "13617d8f-811c-4b07-b5aa-b5b1564087c6"
      },
      "execution_count": 8,
      "outputs": [
        {
          "output_type": "stream",
          "name": "stdout",
          "text": [
            "I like apple\n"
          ]
        }
      ]
    },
    {
      "cell_type": "markdown",
      "source": [
        "6.  Write a code to create a list with numbers 1 to 5 and print it."
      ],
      "metadata": {
        "id": "971OPmwuC1I9"
      }
    },
    {
      "cell_type": "code",
      "source": [
        "number = [1,2,3,4,5]\n",
        "print(number)"
      ],
      "metadata": {
        "id": "5xAVleSsC5B5"
      },
      "execution_count": null,
      "outputs": []
    },
    {
      "cell_type": "markdown",
      "source": [
        "7. Write a code to append the number 10 to the list [1, 2, 3, 4]."
      ],
      "metadata": {
        "id": "HxZAcbReZaYd"
      }
    },
    {
      "cell_type": "code",
      "source": [
        "numbers = [1,2,3,4]\n",
        "numbers.append(10)\n",
        "print(numbers)"
      ],
      "metadata": {
        "colab": {
          "base_uri": "https://localhost:8080/"
        },
        "id": "pjrKXvutZhow",
        "outputId": "bac25240-864c-4861-c79e-1ded2737c7ab"
      },
      "execution_count": 2,
      "outputs": [
        {
          "output_type": "stream",
          "name": "stdout",
          "text": [
            "[1, 2, 3, 4, 10]\n"
          ]
        }
      ]
    },
    {
      "cell_type": "markdown",
      "source": [
        "8. Write a code to remove the number 3 from the list [1, 2, 3, 4, 5]."
      ],
      "metadata": {
        "id": "slf0C_tOZ3lc"
      }
    },
    {
      "cell_type": "code",
      "source": [
        "numbers = [1,2,3,4,5]\n",
        "numbers.remove(3)\n",
        "print(numbers)"
      ],
      "metadata": {
        "colab": {
          "base_uri": "https://localhost:8080/"
        },
        "id": "g9iKYJRiZ9vb",
        "outputId": "6086cbbe-1cc3-494d-e3a9-19be5ca807c8"
      },
      "execution_count": 3,
      "outputs": [
        {
          "output_type": "stream",
          "name": "stdout",
          "text": [
            "[1, 2, 4, 5]\n"
          ]
        }
      ]
    },
    {
      "cell_type": "markdown",
      "source": [
        "9. Write a code to access the second element in the list ['a', 'b', 'c', 'd']."
      ],
      "metadata": {
        "id": "C1JIV_praPMo"
      }
    },
    {
      "cell_type": "code",
      "source": [
        "alpha = ['a','b','c','d']\n",
        "alpha[1]"
      ],
      "metadata": {
        "colab": {
          "base_uri": "https://localhost:8080/",
          "height": 35
        },
        "id": "kbhRuEVIaXyV",
        "outputId": "3c748e37-58c0-4570-cf86-aba532b7c0b1"
      },
      "execution_count": 4,
      "outputs": [
        {
          "output_type": "execute_result",
          "data": {
            "text/plain": [
              "'b'"
            ],
            "application/vnd.google.colaboratory.intrinsic+json": {
              "type": "string"
            }
          },
          "metadata": {},
          "execution_count": 4
        }
      ]
    },
    {
      "cell_type": "markdown",
      "source": [
        "10. Write a code to reverse the list [10, 20, 30, 40, 50]."
      ],
      "metadata": {
        "id": "td5-Ld58dZrX"
      }
    },
    {
      "cell_type": "code",
      "source": [
        "number = [10,20,30,40,50]\n",
        "number.reverse()\n",
        "print(number)"
      ],
      "metadata": {
        "colab": {
          "base_uri": "https://localhost:8080/"
        },
        "id": "s3sxO67pdc0W",
        "outputId": "3952f91e-4137-455c-c4ae-31d995e80c71"
      },
      "execution_count": 5,
      "outputs": [
        {
          "output_type": "stream",
          "name": "stdout",
          "text": [
            "[50, 40, 30, 20, 10]\n"
          ]
        }
      ]
    },
    {
      "cell_type": "markdown",
      "source": [
        "11. Write a code to create a tuple with the elements 100, 200, 300 and print it."
      ],
      "metadata": {
        "id": "M8UYawxEdyOK"
      }
    },
    {
      "cell_type": "code",
      "source": [
        "number = (100, 200, 300)\n",
        "print(number)"
      ],
      "metadata": {
        "colab": {
          "base_uri": "https://localhost:8080/"
        },
        "id": "8DU7ExYxd7Bm",
        "outputId": "3265ad44-8e05-4da3-97c2-1fdc28897ab4"
      },
      "execution_count": 6,
      "outputs": [
        {
          "output_type": "stream",
          "name": "stdout",
          "text": [
            "(100, 200, 300)\n"
          ]
        }
      ]
    },
    {
      "cell_type": "markdown",
      "source": [
        "12.  Write a code to access the second-to-last element of the tuple ('red', 'green', 'blue', 'yellow')"
      ],
      "metadata": {
        "id": "k8yFEetheDm7"
      }
    },
    {
      "cell_type": "code",
      "source": [
        "number = ('red', 'green', 'blue', 'yellow')\n",
        "print(number[-2])"
      ],
      "metadata": {
        "colab": {
          "base_uri": "https://localhost:8080/"
        },
        "id": "-CSr-vMyeJVB",
        "outputId": "28ced187-5712-4f6f-c470-c353d26ccb00"
      },
      "execution_count": 7,
      "outputs": [
        {
          "output_type": "stream",
          "name": "stdout",
          "text": [
            "blue\n"
          ]
        }
      ]
    },
    {
      "cell_type": "markdown",
      "source": [
        "13. Write a code to find the minimum number in the tuple (10, 20, 5, 15)."
      ],
      "metadata": {
        "id": "LOEhG-g-eSJ3"
      }
    },
    {
      "cell_type": "code",
      "source": [
        "number = (10, 20, 5, 15)\n",
        "min_val = min(number)\n",
        "print(min_val)"
      ],
      "metadata": {
        "colab": {
          "base_uri": "https://localhost:8080/"
        },
        "id": "6katYJP6eZvR",
        "outputId": "74bf7fc2-8c3e-42e8-b0f6-f8fafd2f0c22"
      },
      "execution_count": 9,
      "outputs": [
        {
          "output_type": "stream",
          "name": "stdout",
          "text": [
            "5\n"
          ]
        }
      ]
    },
    {
      "cell_type": "markdown",
      "source": [
        "14.  Write a code to find the index of the element \"cat\" in the tuple ('dog', 'cat', 'rabbit')."
      ],
      "metadata": {
        "id": "QRSklkJ_fgCC"
      }
    },
    {
      "cell_type": "code",
      "source": [
        "animal = ('dog', 'cat', 'rabbit')\n",
        "sec_indx = animal.index('cat')\n",
        "print(sec_indx)"
      ],
      "metadata": {
        "colab": {
          "base_uri": "https://localhost:8080/"
        },
        "id": "xttvVrYTfhtD",
        "outputId": "d6122b0c-027d-456a-e1cb-9d626c7895ed"
      },
      "execution_count": 10,
      "outputs": [
        {
          "output_type": "stream",
          "name": "stdout",
          "text": [
            "1\n"
          ]
        }
      ]
    },
    {
      "cell_type": "markdown",
      "source": [
        "15.  Write a code to create a tuple containing three different fruits and check if \"kiwi\" is in it."
      ],
      "metadata": {
        "id": "tvnKsz8SgF20"
      }
    },
    {
      "cell_type": "code",
      "source": [
        "fruits = (\"apple\",\"banana\",\"kiwi\")\n",
        "if \"kiwi\" in fruits:\n",
        "  print(\"Kiwi is in the tuple\")\n",
        "else:\n",
        "  print(\"Kiwi is not in tuple\")"
      ],
      "metadata": {
        "colab": {
          "base_uri": "https://localhost:8080/"
        },
        "id": "b5hZ-2rqgHyQ",
        "outputId": "ca228bc7-3ed1-4979-9d73-d718c902e54b"
      },
      "execution_count": 11,
      "outputs": [
        {
          "output_type": "stream",
          "name": "stdout",
          "text": [
            "Kiwi is in the tuple\n"
          ]
        }
      ]
    },
    {
      "cell_type": "markdown",
      "source": [
        "16. Write a code to create a set with the elements 'a', 'b', 'c' and print it."
      ],
      "metadata": {
        "id": "3JEAab0eg5pK"
      }
    },
    {
      "cell_type": "code",
      "source": [
        "alset = {'a','b','c'}\n",
        "print(alset)"
      ],
      "metadata": {
        "colab": {
          "base_uri": "https://localhost:8080/"
        },
        "id": "XhEIcxtXg-4i",
        "outputId": "93a4f928-548b-495b-e73e-3d290dba39fa"
      },
      "execution_count": 12,
      "outputs": [
        {
          "output_type": "stream",
          "name": "stdout",
          "text": [
            "{'a', 'c', 'b'}\n"
          ]
        }
      ]
    },
    {
      "cell_type": "markdown",
      "source": [
        "17.  Write a code to clear all elements from the set {1, 2, 3, 4, 5}."
      ],
      "metadata": {
        "id": "ktyRBlV_haoj"
      }
    },
    {
      "cell_type": "code",
      "source": [
        "num = {1, 2, 3, 4, 5}\n",
        "num.clear()\n",
        "print(num)"
      ],
      "metadata": {
        "colab": {
          "base_uri": "https://localhost:8080/"
        },
        "id": "Ik7igDs0hcpc",
        "outputId": "4d87d581-a08e-44c4-d400-b38a6ed9b475"
      },
      "execution_count": 14,
      "outputs": [
        {
          "output_type": "stream",
          "name": "stdout",
          "text": [
            "set()\n"
          ]
        }
      ]
    },
    {
      "cell_type": "markdown",
      "source": [
        "18. Write a code to remove the element 4 from the set {1, 2, 3, 4}."
      ],
      "metadata": {
        "id": "959-xi7Xhw7G"
      }
    },
    {
      "cell_type": "code",
      "source": [
        "num = {1, 2, 3, 4}\n",
        "num.remove(4)\n",
        "print(num)"
      ],
      "metadata": {
        "colab": {
          "base_uri": "https://localhost:8080/"
        },
        "id": "vd3UwSjZhzGs",
        "outputId": "935a1cb5-aa5a-49fe-ab12-30a56e5209ea"
      },
      "execution_count": 15,
      "outputs": [
        {
          "output_type": "stream",
          "name": "stdout",
          "text": [
            "{1, 2, 3}\n"
          ]
        }
      ]
    },
    {
      "cell_type": "markdown",
      "source": [
        "19. Write a code to find the union of two sets {1, 2, 3} and {3, 4, 5}."
      ],
      "metadata": {
        "id": "CUQM4ZjHh_gN"
      }
    },
    {
      "cell_type": "code",
      "source": [
        "set1 = {1,2,3}\n",
        "set2 = {3,4,5}\n",
        "set1.union(set2)"
      ],
      "metadata": {
        "colab": {
          "base_uri": "https://localhost:8080/"
        },
        "id": "0PTeDczjiF4y",
        "outputId": "9d82fb2c-f978-462a-e0bf-97f46b343d68"
      },
      "execution_count": 16,
      "outputs": [
        {
          "output_type": "execute_result",
          "data": {
            "text/plain": [
              "{1, 2, 3, 4, 5}"
            ]
          },
          "metadata": {},
          "execution_count": 16
        }
      ]
    },
    {
      "cell_type": "markdown",
      "source": [
        "20. Write a code to find the intersection of two sets {1, 2, 3} and {2, 3, 4}."
      ],
      "metadata": {
        "id": "GR9FWyvrihkI"
      }
    },
    {
      "cell_type": "code",
      "source": [
        "set1 = {1,2,3}\n",
        "set2 = {2,3,4}\n",
        "set1.intersection(set2)"
      ],
      "metadata": {
        "colab": {
          "base_uri": "https://localhost:8080/"
        },
        "id": "Q0ddc70Xilnu",
        "outputId": "cbb36e25-60a8-45f9-b1ac-0bb518af06e6"
      },
      "execution_count": 17,
      "outputs": [
        {
          "output_type": "execute_result",
          "data": {
            "text/plain": [
              "{2, 3}"
            ]
          },
          "metadata": {},
          "execution_count": 17
        }
      ]
    },
    {
      "cell_type": "markdown",
      "source": [
        "21. Write a code to create a dictionary with the keys \"name\", \"age\", and \"city\", and print it."
      ],
      "metadata": {
        "id": "VPuIYz-aizol"
      }
    },
    {
      "cell_type": "code",
      "source": [
        "dic = {\"name\":\"vineet\", \"age\":\"22\",\"city\":\"Delhi\"}\n",
        "print(dic)"
      ],
      "metadata": {
        "colab": {
          "base_uri": "https://localhost:8080/"
        },
        "id": "p9WCnlK3i3p5",
        "outputId": "03a96f58-87ad-4596-f518-c27a614a54d4"
      },
      "execution_count": 18,
      "outputs": [
        {
          "output_type": "stream",
          "name": "stdout",
          "text": [
            "{'name': 'vineet', 'age': '22', 'city': 'Delhi'}\n"
          ]
        }
      ]
    },
    {
      "cell_type": "markdown",
      "source": [
        "22. Write a code to add a new key-value pair \"country\": \"USA\" to the dictionary {'name': 'John', 'age': 25}."
      ],
      "metadata": {
        "id": "CkGJZHrjjLpe"
      }
    },
    {
      "cell_type": "code",
      "source": [
        "dic = {'name': 'John', 'age': 25}\n",
        "dic[\"county\"] = \"USA\"\n",
        "print(dic)"
      ],
      "metadata": {
        "colab": {
          "base_uri": "https://localhost:8080/"
        },
        "id": "Y_LDyhAljYYz",
        "outputId": "b331b152-4b91-45d9-a7f1-19e55706e6d2"
      },
      "execution_count": 20,
      "outputs": [
        {
          "output_type": "stream",
          "name": "stdout",
          "text": [
            "{'name': 'John', 'age': 25, 'county': 'USA'}\n"
          ]
        }
      ]
    },
    {
      "cell_type": "markdown",
      "source": [
        "23. Write a code to access the value associated with the key \"name\" in the dictionary {'name': 'Alice', 'age': 30}."
      ],
      "metadata": {
        "id": "56tybDzsjxzm"
      }
    },
    {
      "cell_type": "code",
      "source": [
        "dic = {'name': 'Alice', 'age': 30}\n",
        "print(dic['name'])"
      ],
      "metadata": {
        "colab": {
          "base_uri": "https://localhost:8080/"
        },
        "id": "a-hI6DXNj4yN",
        "outputId": "d5b86b5c-d19b-4844-bcf2-bd9df9e5882a"
      },
      "execution_count": 21,
      "outputs": [
        {
          "output_type": "stream",
          "name": "stdout",
          "text": [
            "Alice\n"
          ]
        }
      ]
    },
    {
      "cell_type": "markdown",
      "source": [
        "24. Write a code to remove the key \"age\" from the dictionary {'name': 'Bob', 'age': 22, 'city': 'New York'}."
      ],
      "metadata": {
        "id": "wdOT7EN4kQA-"
      }
    },
    {
      "cell_type": "code",
      "source": [
        "dic = {'name': 'Bob', 'age': 22, 'city': 'New York'}\n",
        "dic.pop('age')\n",
        "print(dic)"
      ],
      "metadata": {
        "colab": {
          "base_uri": "https://localhost:8080/"
        },
        "id": "MWS89MjzkZ80",
        "outputId": "94612724-4676-47ac-8ac3-2c79783d3a02"
      },
      "execution_count": 23,
      "outputs": [
        {
          "output_type": "stream",
          "name": "stdout",
          "text": [
            "{'name': 'Bob', 'city': 'New York'}\n"
          ]
        }
      ]
    },
    {
      "cell_type": "markdown",
      "source": [
        "25. Write a code to check if the key \"city\" exists in the dictionary {'name': 'Alice', 'city': 'Paris'}."
      ],
      "metadata": {
        "id": "24EiVV1Ok7RY"
      }
    },
    {
      "cell_type": "code",
      "source": [
        "dic = {'name': 'Alice', 'city': 'Paris'}\n",
        "if 'city' in dic:\n",
        "  print(\"city is available\")\n",
        "else:\n",
        "  print(\"city is not available\")"
      ],
      "metadata": {
        "colab": {
          "base_uri": "https://localhost:8080/"
        },
        "id": "Vu9k6dX0k4q-",
        "outputId": "2e290350-53cf-444f-ed87-7becc50d2975"
      },
      "execution_count": 24,
      "outputs": [
        {
          "output_type": "stream",
          "name": "stdout",
          "text": [
            "city is available\n"
          ]
        }
      ]
    },
    {
      "cell_type": "markdown",
      "source": [
        "26. Write a code to create a list, a tuple, and a dictionary, and print them all."
      ],
      "metadata": {
        "id": "qSo5NKakkSjL"
      }
    },
    {
      "cell_type": "code",
      "source": [
        "my_list = [1,2,3,4,5]\n",
        "my_tuple = ('a', 'b', 'c')\n",
        "my_dic = {'name': 'Alice', 'city': 'Paris'}\n",
        "print(my_list)\n",
        "print(my_tuple)\n",
        "print(my_dic)"
      ],
      "metadata": {
        "colab": {
          "base_uri": "https://localhost:8080/"
        },
        "id": "OSoYaa9Ol49y",
        "outputId": "cac26b25-5e4f-4af9-b077-8f24a62034aa"
      },
      "execution_count": 25,
      "outputs": [
        {
          "output_type": "stream",
          "name": "stdout",
          "text": [
            "[1, 2, 3, 4, 5]\n",
            "('a', 'b', 'c')\n",
            "{'name': 'Alice', 'city': 'Paris'}\n"
          ]
        }
      ]
    },
    {
      "cell_type": "markdown",
      "source": [
        "27. Write a code to create a list of 5 random numbers between 1 and 100, sort it in ascending order, and print the\n",
        "result.(replaced)"
      ],
      "metadata": {
        "id": "gp2INIx5mfJT"
      }
    },
    {
      "cell_type": "code",
      "source": [
        "import random\n",
        "random_number = [random.randint(1,100) for i in range(5)]\n",
        "random_number.sort()\n",
        "print(random_number)"
      ],
      "metadata": {
        "colab": {
          "base_uri": "https://localhost:8080/"
        },
        "id": "42ANe3n2mmcE",
        "outputId": "20f85a7b-6751-4b87-dd9c-742d7ab22380"
      },
      "execution_count": 26,
      "outputs": [
        {
          "output_type": "stream",
          "name": "stdout",
          "text": [
            "[10, 18, 74, 91, 94]\n"
          ]
        }
      ]
    },
    {
      "cell_type": "markdown",
      "source": [
        "28. Write a code to create a list with strings and print the element at the third index."
      ],
      "metadata": {
        "id": "uont4rhYnBlr"
      }
    },
    {
      "cell_type": "code",
      "source": [
        "fruits = (\"apple\",\"banana\",\"kiwi\",\"mango\")\n",
        "print(fruits[3])"
      ],
      "metadata": {
        "colab": {
          "base_uri": "https://localhost:8080/"
        },
        "id": "fZf-jPPDnVuT",
        "outputId": "52dab874-0ecb-45a3-e434-284f11499b25"
      },
      "execution_count": 27,
      "outputs": [
        {
          "output_type": "stream",
          "name": "stdout",
          "text": [
            "mango\n"
          ]
        }
      ]
    },
    {
      "cell_type": "markdown",
      "source": [
        "29. Write a code to combine two dictionaries into one and print the result."
      ],
      "metadata": {
        "id": "9Y-PRTR7nvZT"
      }
    },
    {
      "cell_type": "code",
      "source": [
        "dic1 = {1:2,2:3}\n",
        "dic2 = {'a':'b','c':'d'}\n",
        "comb_dic = {**dic1, **dic2}\n",
        "print(comb_dic)"
      ],
      "metadata": {
        "colab": {
          "base_uri": "https://localhost:8080/"
        },
        "id": "UMpbHfTVnvCZ",
        "outputId": "ea30f294-047b-42d6-caba-9ff9db35c42d"
      },
      "execution_count": 28,
      "outputs": [
        {
          "output_type": "stream",
          "name": "stdout",
          "text": [
            "{1: 2, 2: 3, 'a': 'b', 'c': 'd'}\n"
          ]
        }
      ]
    },
    {
      "cell_type": "markdown",
      "source": [
        "30. Write a code to convert a list of strings into a set."
      ],
      "metadata": {
        "id": "U8AtNGPYoc3s"
      }
    },
    {
      "cell_type": "code",
      "source": [
        "list_string = {\"sdj\", \"djf\", \"dsklf\", \"jjl\"}\n",
        "set_string = set(list_string)\n",
        "print(set_string)"
      ],
      "metadata": {
        "colab": {
          "base_uri": "https://localhost:8080/"
        },
        "id": "_SwdlfWIo4Qy",
        "outputId": "705af9ca-9497-4e11-fd72-77be4158443f"
      },
      "execution_count": 29,
      "outputs": [
        {
          "output_type": "stream",
          "name": "stdout",
          "text": [
            "{'sdj', 'dsklf', 'djf', 'jjl'}\n"
          ]
        }
      ]
    }
  ]
}